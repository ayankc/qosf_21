{
 "cells": [
  {
   "cell_type": "code",
   "execution_count": 3,
   "metadata": {},
   "outputs": [
    {
     "name": "stdout",
     "output_type": "stream",
     "text": [
      "output\n",
      "1/sqrt(2)*(|11> + |01>)\n"
     ]
    }
   ],
   "source": [
    "import numpy as np\n",
    "from multiprocessing import Process, Manager\n",
    "from multiprocessing.managers import SyncManager\n",
    "import defs\n",
    "\n",
    "\n",
    "if __name__ == '__main__':\n",
    "    store_qubit = []\n",
    "    \"\"\"fixed input\"\"\"\n",
    "    index_qubit = 2;\n",
    "    store_qubit.append(1)\n",
    "    store_qubit.append(5)\n",
    "    store_qubit.append(7)\n",
    "    store_qubit.append(10)\n",
    "    \n",
    "    out_index_qubit = []\n",
    "\n",
    "    loop = 0\n",
    "    store_qubit_len = 0\n",
    "\n",
    "    while loop < len(store_qubit):\n",
    "        data = store_qubit[loop]\n",
    "        data_bit_len = 0\n",
    "        while data != 0:\n",
    "            data = np.right_shift(data, 1)\n",
    "            data_bit_len += 1\n",
    "        if data_bit_len > store_qubit_len:\n",
    "            store_qubit_len = data_bit_len\n",
    "        loop += 1\n",
    "    \n",
    "    proc_list = []\n",
    "\n",
    "    with SyncManager() as manager:\n",
    "        out_index_qubit = manager.list()\n",
    "        loop = 0\n",
    "        while loop < len(store_qubit):\n",
    "            pr = Process(target=defs.circuit_proc_func, args=(loop, index_qubit, store_qubit[loop], store_qubit_len, out_index_qubit))\n",
    "                                                         \n",
    "            pr.start()\n",
    "            proc_list.append(pr)\n",
    "            loop += 1\n",
    "   \n",
    "        loop = 0\n",
    "        while loop < len(proc_list):\n",
    "            proc_list[loop].join()\n",
    "            loop += 1       \n",
    "\n",
    "        out_index_qubit = list(out_index_qubit)\n",
    "        out_index_no = len(out_index_qubit)\n",
    "        print('output')\n",
    "        str_out = \"\"\n",
    "        if out_index_no > 0:\n",
    "            loop = 0\n",
    "            str_out += '1/sqrt('\n",
    "            str_out += str(out_index_no)\n",
    "            str_out += ')*(|'\n",
    "            while loop < (out_index_no -1):\n",
    "                str_out += str(np.binary_repr(out_index_qubit[loop], width=index_qubit))\n",
    "                str_out += '> + |'\n",
    "                loop += 1\n",
    "            str_out += str(np.binary_repr(out_index_qubit[loop], width=index_qubit))\n",
    "            str_out += '>)'\n",
    "        else:\n",
    "            str_out += 'No matched found for the criteria'\n",
    "\n",
    "        print(str_out)"
   ]
  },
  {
   "cell_type": "code",
   "execution_count": null,
   "metadata": {},
   "outputs": [],
   "source": []
  }
 ],
 "metadata": {
  "kernelspec": {
   "display_name": "Python 3",
   "language": "python",
   "name": "python3"
  },
  "language_info": {
   "codemirror_mode": {
    "name": "ipython",
    "version": 3
   },
   "file_extension": ".py",
   "mimetype": "text/x-python",
   "name": "python",
   "nbconvert_exporter": "python",
   "pygments_lexer": "ipython3",
   "version": "3.8.5"
  }
 },
 "nbformat": 4,
 "nbformat_minor": 4
}
