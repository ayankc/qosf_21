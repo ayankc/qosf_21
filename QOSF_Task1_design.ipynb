{
 "cells": [
  {
   "cell_type": "markdown",
   "metadata": {},
   "source": [
    "Task1 - My approach and design:\n",
    "\n",
    "The problem has two parts 1) providing fixed input and 2) the generalization or generic extension.$\\newline$\n",
    "Essentially, we will show by construction that the basic logic / methodology is the same.\n",
    "\n",
    "Preliminaries:\n",
    "1) If the number of input qubit is 'n', there will be $2^{n}$ total possiblities of input decimal numbers, each of them can be 'm' qubit in size $\\newline$\n",
    "2) For the fixed part of the problem n will be $2$ and m will be $4$ and there are $4$ such possibilities (given $1$, $5$, $7$, $10$) and each can be represented by $4$ qubits.$\\newline$\n",
    "3) This indicates that the quantum circuit should be having m (for fixed input m=4) input registers to hold each vector of input data (input as decimal value). Also it should be having n (for fixed case $n=2$) quantum registers to hold input index (will be $4$ when $n=2$. $\\newline$\n",
    "\n",
    "Core Logic:\n",
    "1) We can categorize two types out of decimals, a) say for example, 9 whose binary representation is 1001 and b) say 10 whose binary representation is 1010. The speciality of binary representation of 10 is that 1 and 0 are in alternating position while for 9 this is not. Our task is actually to find such decimals (like 10 and 5 if represented in 0101 format) and represent with their index position.$\\newline$\n",
    "2) Suppose a number say p can be represented by {$p_{n}p_{n-1}...p_{1}$} form where $p_{1}$ is LSB and $p_{n}$ is MSB. As an example, in case of 1010 (decimal 10) $0$ is LSB and $1$ is MSB.$\\newline$\n",
    "3) With refernce to the above example, $10$ can be represented by $4$ qubits with proper set of the $4$ quantum registers. Let's represent $10$ ($1010$ in binary) as $p_{4}p_{3}p_{2}p_{1}$.$\\newline$ If we perform CNOT($p_{2}$, $p_{1}$) and then CNOT($p_{3}$, $p_{2}$) and CNOT($p_{4}$, $p_{3}$), $p_{1}, p_{2}, p_{3}$ will all be set to 1. The same is true for the 4 qubit representation of 5 (0101).$\\newline$ But in case of 9 (1001) it would be 101. We can thus verify the numbers whose adjacent bits are alternating in 0 and 1, all the qubit from LSB up to MSB-1 will be set to 1.$\\newline$\n",
    "4) In fact, this can be extended and can be generalized for n-qubit entry. CNOT($p_{2}$, $p_{1}$), CNOT($p_{3}$, $p_{2}$), ... CNOT($p_{n}$, $p_{n-1}$) will all result to 1 if such condition of alternating adjacent bits of $0$ and $1$ is satisfied. We just need to check all such quantum registers except MSB register if all are set to 1.$\\newline$\n",
    "\n",
    "Quantum Circuit design and construction:\n",
    "1) QOSF_task1.ipynb has the implementation of this.$\\newline$\n",
    "2) It has 2 classes - 'circuit_fixed' has just for implementing and solving the given {1, 5, 7,10} and 'circuit_generic' takes user input of number of qubits (n) followed by decimal inputs (m-qubit length).$\\newline$\n",
    "3) 4 qubits (say q_cir) are to represent each of 1, 5, 7, 10, so 4 quantum registers we need for this and 2 quantum registers (say q_index) for index representation. We want to store the result of each CNOT (CX) operation, so $m-1$ (m is the number of quantum registers representing each decimal, here $m=4$) that is here, $3$ quantum registers (say q_cond) need for this. Finally we want one single quantum register (say q_out) which will represent the combined result of all the q_cond registers. If all the q_cond is set to 1, q_out will be 1, and 0 otherwise.$\\newline$\n",
    "4) Finally, q_out register is flipped and measure as MSB of all measured qubits, the other measured qubits will be index quantum registers (q_index). The measurement of q_index is only be taken if and only if q_out register is measured to be 0. In this construction this is only possible when the adjacent qubits (for q_cir quantum registers) are alternating 0 and 1. We then display these index qubits as a superposition.$\\newline$\n",
    "\n",
    "Advantage and disadvantage:\n",
    "1) Since the core construction of the quantum circut is similar for all input, we can take advantage of running this circuit in parallel. 'QOSF_task1_parallel.ipynb' has the implementation of this. This implementation is just for fixed input to showcase the capability of parallelism.$\\newline$\n",
    "2) All decimal input can be fed in parallel in order to speed-up, the result from each parallel processing will be collected and then displayed.$\\newline$\n",
    "3) If achieved complete parallelism, running time will just be the processing time of any single decimmal input.$\\newline$\n",
    "4) However, this construction draws a large number of qubits. For a single decimal processing the total quantum registers will be $m + n + (m -1) + 1 = 2m + n$. The complete implementation will then require $2^{n}*(2m + n)$ quantum logical registers.$\\newline$\n"
   ]
  },
  {
   "cell_type": "code",
   "execution_count": null,
   "metadata": {},
   "outputs": [],
   "source": []
  }
 ],
 "metadata": {
  "kernelspec": {
   "display_name": "Python 3",
   "language": "python",
   "name": "python3"
  },
  "language_info": {
   "codemirror_mode": {
    "name": "ipython",
    "version": 3
   },
   "file_extension": ".py",
   "mimetype": "text/x-python",
   "name": "python",
   "nbconvert_exporter": "python",
   "pygments_lexer": "ipython3",
   "version": "3.8.5"
  }
 },
 "nbformat": 4,
 "nbformat_minor": 4
}
